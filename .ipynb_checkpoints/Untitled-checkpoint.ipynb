{
 "cells": [
  {
   "cell_type": "code",
   "execution_count": null,
   "id": "144a7df6",
   "metadata": {},
   "outputs": [],
   "source": [
    "\n",
    "pip install face_recognition\n"
   ]
  },
  {
   "cell_type": "code",
   "execution_count": null,
   "id": "ba738f88",
   "metadata": {},
   "outputs": [],
   "source": [
    "import sys\n",
    "from PyQt5.uic import loadUi\n",
    "from PyQt5 import QtWidgets\n",
    "from PyQt5.QtCore import pyqtSlot\n",
    "from PyQt5.QtWidgets import QApplication, QDialog\n",
    "from out_window import Ui_OutputDialog \n",
    "import sjeclogo\n",
    "\n",
    "\n",
    "\n",
    "class Ui_Dialog(QDialog):\n",
    "    def __init__(self):\n",
    "        super(Ui_Dialog, self).__init__()\n",
    "        loadUi(\"mainwindow.ui\", self)\n",
    "        self.runButton.clicked.connect(self.runSlot)\n",
    "\n",
    "        self._new_window = None\n",
    "        self.Videocapture_ = None\n",
    "\n",
    "    def refreshAll(self):\n",
    "        \"\"\"\n",
    "        Set the text of lineEdit once it's valid\n",
    "        \"\"\"\n",
    "        self.Videocapture_ = \"0\"\n",
    "\n",
    "    @pyqtSlot()\n",
    "    def runSlot(self):\n",
    "        \"\"\"\n",
    "        Called when the user presses the Run button\n",
    "        \"\"\"\n",
    "        print(\"Clicked Run\")\n",
    "        self.refreshAll()\n",
    "        print(self.Videocapture_)\n",
    "        ui.hide()  # hide the main window\n",
    "        self.outputWindow_()  # Create and open new output window\n",
    "\n",
    "    def outputWindow_(self):\n",
    "        \"\"\"\n",
    "        Created new window for vidual output of the video in GUI\n",
    "        \"\"\"\n",
    "        self._new_window = Ui_OutputDialog()\n",
    "        self._new_window.show()\n",
    "        self._new_window.startVideo(self.Videocapture_)\n",
    "        print(\"Video Played\")\n",
    "\n",
    "\n",
    "if __name__ == \"__main__\":\n",
    "    app = QApplication(sys.argv)\n",
    "    ui = Ui_Dialog()\n",
    "    ui.show()\n",
    "    sys.exit(app.exec_())\n"
   ]
  },
  {
   "cell_type": "code",
   "execution_count": null,
   "id": "67e297d3",
   "metadata": {},
   "outputs": [],
   "source": []
  },
  {
   "cell_type": "code",
   "execution_count": null,
   "id": "f5cbe042",
   "metadata": {},
   "outputs": [],
   "source": []
  }
 ],
 "metadata": {
  "kernelspec": {
   "display_name": "Python 3 (ipykernel)",
   "language": "python",
   "name": "python3"
  },
  "language_info": {
   "codemirror_mode": {
    "name": "ipython",
    "version": 3
   },
   "file_extension": ".py",
   "mimetype": "text/x-python",
   "name": "python",
   "nbconvert_exporter": "python",
   "pygments_lexer": "ipython3",
   "version": "3.9.0"
  }
 },
 "nbformat": 4,
 "nbformat_minor": 5
}
